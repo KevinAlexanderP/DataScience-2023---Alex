{
  "nbformat": 4,
  "nbformat_minor": 0,
  "metadata": {
    "colab": {
      "provenance": []
    },
    "kernelspec": {
      "name": "python3",
      "display_name": "Python 3"
    },
    "language_info": {
      "name": "python"
    }
  },
  "cells": [
    {
      "cell_type": "markdown",
      "source": [
        "We import all the libraries needed , in this case, urllib.request // the pack urlopen to parse the url \n",
        "\n",
        "and then we assign it into a  variable called \n",
        "\"response\" response contains the library "
      ],
      "metadata": {
        "id": "PjZ4umQrzcpO"
      }
    },
    {
      "cell_type": "code",
      "source": [
        "from urllib.request import urlopen\n",
        "import json\n",
        "from pprint import pprint\n",
        "\n",
        "url = \"https://random-data-api.com/api/commerce/random_commerce?size=100\"\n",
        "\n",
        "response = urlopen(url)\n",
        "\n",
        "print(response)\n"
      ],
      "metadata": {
        "colab": {
          "base_uri": "https://localhost:8080/"
        },
        "id": "hprwEGjJ0A8z",
        "outputId": "bd7e2aa2-b20a-4386-a05b-40cd7164a6c5"
      },
      "execution_count": 3,
      "outputs": [
        {
          "output_type": "stream",
          "name": "stdout",
          "text": [
            "<http.client.HTTPResponse object at 0x7fac7ae41430>\n"
          ]
        }
      ]
    },
    {
      "cell_type": "code",
      "source": [
        "##with the function read we read the response \n",
        "data = json.loads(response.read())\n",
        "print(data)"
      ],
      "metadata": {
        "colab": {
          "base_uri": "https://localhost:8080/"
        },
        "id": "5_L4S0fXz7sO",
        "outputId": "0232a6ce-f233-4fcb-df68-f2fe321e3a8e"
      },
      "execution_count": 4,
      "outputs": [
        {
          "output_type": "stream",
          "name": "stdout",
          "text": [
            "[{'id': 7578, 'uid': 'e355c2fd-ff8f-4890-8e36-4350adf8ce22', 'color': 'orchid', 'department': 'Home', 'material': 'Rubber', 'product_name': 'Intelligent Steel Coat', 'price': 31.76, 'price_string': '7.92', 'promo_code': 'PremiumPromotion319884'}, {'id': 2632, 'uid': '4bd12657-d31d-4be6-8213-7fb35a27b5d8', 'color': 'raspberry', 'department': 'Tools', 'material': 'Plastic', 'product_name': 'Ergonomic Iron Coat', 'price': 65.27, 'price_string': '1.48', 'promo_code': 'CoolPrice416708'}, {'id': 1778, 'uid': '9c981a89-8435-4f9a-94d8-9e877c4e44a3', 'color': 'aquamarine', 'department': 'Computers & Electronics', 'material': 'Concrete', 'product_name': 'Awesome Marble Watch', 'price': 41.54, 'price_string': '4.97', 'promo_code': 'AwesomePromo160700'}, {'id': 8118, 'uid': '30c3ddf2-f3cf-493e-9b2c-be154ddd5916', 'color': 'scarlet', 'department': 'Tools', 'material': 'Bronze', 'product_name': 'Small Iron Car', 'price': 73.51, 'price_string': '1.10', 'promo_code': 'IncredibleSavings388014'}, {'id': 6079, 'uid': '1ee607c1-64e3-473e-a113-eb035a5ec3e9', 'color': 'viridian', 'department': 'Kids', 'material': 'Rubber', 'product_name': 'Lightweight Cotton Car', 'price': 41.17, 'price_string': '1.61', 'promo_code': 'PremiumPrice629934'}, {'id': 2901, 'uid': '0e068f13-651c-45fd-befb-2c5485289412', 'color': 'peach', 'department': 'Jewelry & Baby', 'material': 'Steel', 'product_name': 'Rustic Concrete Clock', 'price': 50.24, 'price_string': '9.95', 'promo_code': 'GoodSale267518'}, {'id': 7999, 'uid': 'db658817-d1bf-4589-b39d-264913912c1e', 'color': 'cyan', 'department': 'Beauty & Tools', 'material': 'Paper', 'product_name': 'Mediocre Linen Bottle', 'price': 87.69, 'price_string': '5.37', 'promo_code': 'AmazingPromotion944469'}, {'id': 6115, 'uid': '80624624-77d1-49cb-ad29-31b5e0adc840', 'color': 'ruby', 'department': 'Home & Kids', 'material': 'Silk', 'product_name': 'Heavy Duty Copper Wallet', 'price': 1.92, 'price_string': '4.22', 'promo_code': 'IncredibleSavings862159'}, {'id': 2829, 'uid': '2af8ef89-e343-441f-93f8-5f55a3f391e3', 'color': 'ultramarine', 'department': 'Health & Electronics', 'material': 'Copper', 'product_name': 'Enormous Linen Lamp', 'price': 42.19, 'price_string': '2.31', 'promo_code': 'PremiumPrice830030'}, {'id': 4552, 'uid': 'b64a8ad9-9b13-419e-b22e-16fc5a116714', 'color': 'carmine', 'department': 'Baby & Shoes', 'material': 'Leather', 'product_name': 'Aerodynamic Granite Shoes', 'price': 97.07, 'price_string': '7.14', 'promo_code': 'SweetSavings436684'}, {'id': 23, 'uid': '3668d761-c69c-45cc-80ef-624f2c584377', 'color': 'tan', 'department': 'Electronics', 'material': 'Rubber', 'product_name': 'Awesome Copper Coat', 'price': 23.57, 'price_string': '0.24', 'promo_code': 'AmazingDiscount329954'}, {'id': 923, 'uid': '4daa82bf-bc91-4cd8-83fc-24692442692a', 'color': 'pink', 'department': 'Books & Tools', 'material': 'Iron', 'product_name': 'Ergonomic Steel Bag', 'price': 11.46, 'price_string': '6.63', 'promo_code': 'StellarPromotion874614'}, {'id': 8308, 'uid': '5f2653f2-6bc9-4d68-b0e3-c4629e78cc1b', 'color': 'pear', 'department': 'Sports', 'material': 'Aluminum', 'product_name': 'Sleek Paper Lamp', 'price': 18.17, 'price_string': '2.14', 'promo_code': 'GreatSale885066'}, {'id': 2701, 'uid': '8f66aa49-622a-4906-9644-10d4219b2179', 'color': 'peach', 'department': 'Tools & Computers', 'material': 'Marble', 'product_name': 'Lightweight Wool Chair', 'price': 23.28, 'price_string': '4.64', 'promo_code': 'AwesomeSavings342325'}, {'id': 2182, 'uid': '22d6eedb-c0e1-401c-9ee8-88b28cd9bf6b', 'color': 'coral', 'department': 'Beauty', 'material': 'Aluminum', 'product_name': 'Incredible Iron Gloves', 'price': 56.78, 'price_string': '6.54', 'promo_code': 'AwesomePrice154724'}, {'id': 8685, 'uid': '82fee423-8600-4a2d-ab63-9ad8daac3728', 'color': 'silver', 'department': 'Beauty', 'material': 'Wooden', 'product_name': 'Ergonomic Wool Bench', 'price': 8.06, 'price_string': '7.61', 'promo_code': 'PremiumDeal163032'}, {'id': 1395, 'uid': '2dca3010-a1fb-4a50-b284-c11410fc33a2', 'color': 'ultramarine', 'department': 'Clothing', 'material': 'Iron', 'product_name': 'Enormous Plastic Chair', 'price': 61.23, 'price_string': '2.91', 'promo_code': 'CoolPrice893906'}, {'id': 4538, 'uid': 'f0e0cac9-f78d-41ae-936c-d07d4a875920', 'color': 'brown', 'department': 'Jewelry', 'material': 'Silk', 'product_name': 'Gorgeous Wool Bag', 'price': 99.67, 'price_string': '1.58', 'promo_code': 'KillerCode524232'}, {'id': 8763, 'uid': 'e67968f1-8b9d-4ad6-b9af-932a502b35d0', 'color': 'amaranth', 'department': 'Garden', 'material': 'Granite', 'product_name': 'Heavy Duty Paper Knife', 'price': 79.08, 'price_string': '8.55', 'promo_code': 'SweetPrice472609'}, {'id': 4032, 'uid': '24c8b73a-1909-48eb-b248-63851be66ec4', 'color': 'blush', 'department': 'Computers', 'material': 'Steel', 'product_name': 'Synergistic Aluminum Wallet', 'price': 83.27, 'price_string': '3.43', 'promo_code': 'IncredibleSavings199620'}, {'id': 8689, 'uid': '2865e094-9ade-4939-8384-2e52eb4b4632', 'color': 'grey', 'department': 'Sports & Books', 'material': 'Aluminum', 'product_name': 'Gorgeous Silk Bag', 'price': 93.26, 'price_string': '1.03', 'promo_code': 'IncrediblePromo312320'}, {'id': 2355, 'uid': 'fffae0a9-7ac9-458a-89dd-48ecb14bfc12', 'color': 'sapphire', 'department': 'Jewelry & Computers', 'material': 'Steel', 'product_name': 'Mediocre Silk Keyboard', 'price': 88.0, 'price_string': '4.01', 'promo_code': 'PremiumSale368718'}, {'id': 3286, 'uid': '6e0db775-ca6f-49c5-999e-e20f5c62e563', 'color': 'ruby', 'department': 'Electronics & Automotive', 'material': 'Bronze', 'product_name': 'Ergonomic Leather Chair', 'price': 10.94, 'price_string': '7.89', 'promo_code': 'SweetPromotion584040'}, {'id': 4040, 'uid': '72a38d14-b55a-48cf-becd-c340b7bb430c', 'color': 'teal', 'department': 'Kids & Games', 'material': 'Cotton', 'product_name': 'Awesome Iron Plate', 'price': 99.62, 'price_string': '2.24', 'promo_code': 'CoolDiscount251250'}, {'id': 4813, 'uid': 'b630356e-3df6-4e46-b0e3-47cfc74611d7', 'color': 'amethyst', 'department': 'Sports', 'material': 'Copper', 'product_name': 'Small Wooden Chair', 'price': 33.47, 'price_string': '2.95', 'promo_code': 'SpecialCode296856'}, {'id': 6405, 'uid': '9afbafa3-9a7c-4c17-ae29-697584c4c5ee', 'color': 'yellow', 'department': 'Music & Health', 'material': 'Wooden', 'product_name': 'Lightweight Silk Chair', 'price': 60.58, 'price_string': '9.35', 'promo_code': 'GreatPromo873707'}, {'id': 2484, 'uid': '4dd53213-575c-49a3-843c-b5d598b7ea4e', 'color': 'chocolate', 'department': 'Automotive', 'material': 'Steel', 'product_name': 'Mediocre Leather Bag', 'price': 35.15, 'price_string': '5.03', 'promo_code': 'AmazingSale666226'}, {'id': 3582, 'uid': '0c6a68bf-1116-41c8-a907-afbe151c5b40', 'color': 'harlequin', 'department': 'Sports & Computers', 'material': 'Copper', 'product_name': 'Heavy Duty Wool Plate', 'price': 40.45, 'price_string': '3.29', 'promo_code': 'StellarPromo179793'}, {'id': 139, 'uid': 'eab0f5ce-dc69-43a7-ba29-0d135851889f', 'color': 'mauve', 'department': 'Electronics', 'material': 'Cotton', 'product_name': 'Mediocre Wool Shoes', 'price': 36.08, 'price_string': '8.68', 'promo_code': 'SweetDeal771002'}, {'id': 824, 'uid': '1809d26b-543e-4fd0-9336-0462224ff55b', 'color': 'purple', 'department': 'Grocery & Garden', 'material': 'Rubber', 'product_name': 'Awesome Aluminum Lamp', 'price': 60.01, 'price_string': '7.72', 'promo_code': 'GoodPromo661979'}, {'id': 4125, 'uid': '8ab2c58b-bdc6-4d8f-b4d1-bf9aad5d35ba', 'color': 'coffee', 'department': 'Computers', 'material': 'Silk', 'product_name': 'Small Plastic Keyboard', 'price': 34.38, 'price_string': '7.49', 'promo_code': 'AwesomeSavings590582'}, {'id': 252, 'uid': '271b2d97-d647-4e00-8dcf-5551a808604e', 'color': 'periwinkle', 'department': 'Toys & Clothing', 'material': 'Iron', 'product_name': 'Intelligent Granite Computer', 'price': 16.62, 'price_string': '6.41', 'promo_code': 'StellarDeal448499'}, {'id': 8281, 'uid': '016711c7-8af1-4d5d-897f-87742c190b72', 'color': 'black', 'department': 'Tools', 'material': 'Leather', 'product_name': 'Aerodynamic Linen Keyboard', 'price': 45.21, 'price_string': '5.22', 'promo_code': 'IncredibleDiscount944021'}, {'id': 8554, 'uid': '11a5266e-c7fd-48ee-ad87-a850c81de8be', 'color': 'pear', 'department': 'Tools', 'material': 'Wool', 'product_name': 'Rustic Granite Keyboard', 'price': 91.07, 'price_string': '4.07', 'promo_code': 'GreatPrice918445'}, {'id': 2395, 'uid': '571e3e2b-a239-4b1e-8dfd-ca8c1d6b25a2', 'color': 'mauve', 'department': 'Games & Industrial', 'material': 'Marble', 'product_name': 'Aerodynamic Steel Wallet', 'price': 11.1, 'price_string': '7.31', 'promo_code': 'IncredibleSavings130911'}, {'id': 8883, 'uid': 'ed02f518-28d7-4cd4-bbce-0c792354dc4c', 'color': 'purple', 'department': 'Sports & Automotive', 'material': 'Paper', 'product_name': 'Rustic Aluminum Lamp', 'price': 78.13, 'price_string': '3.61', 'promo_code': 'GreatPromotion871058'}, {'id': 5695, 'uid': 'c2ef0653-db7e-4290-b7db-08f088d0f77d', 'color': 'brown', 'department': 'Tools & Electronics', 'material': 'Rubber', 'product_name': 'Aerodynamic Paper Gloves', 'price': 6.97, 'price_string': '8.62', 'promo_code': 'GoodSavings865692'}, {'id': 5538, 'uid': '9fb9246e-5122-4c0a-babd-aa43d39dcfb5', 'color': 'erin', 'department': 'Electronics & Clothing', 'material': 'Linen', 'product_name': 'Incredible Paper Computer', 'price': 72.59, 'price_string': '0.45', 'promo_code': 'GoodPromotion106153'}, {'id': 3315, 'uid': '3f957cd9-e086-4591-9627-526039e63fad', 'color': 'black', 'department': 'Tools & Outdoors', 'material': 'Paper', 'product_name': 'Incredible Paper Computer', 'price': 78.34, 'price_string': '6.41', 'promo_code': 'AwesomeSavings680936'}, {'id': 1341, 'uid': '9dee5fe7-025e-4427-a729-e2e4309cd2ce', 'color': 'amber', 'department': 'Electronics & Toys', 'material': 'Aluminum', 'product_name': 'Awesome Silk Clock', 'price': 94.28, 'price_string': '0.73', 'promo_code': 'SweetSale825824'}, {'id': 2006, 'uid': '59792de7-e379-4d87-9aeb-7f2aea9b3b9d', 'color': 'tan', 'department': 'Sports', 'material': 'Copper', 'product_name': 'Ergonomic Silk Keyboard', 'price': 61.15, 'price_string': '4.11', 'promo_code': 'SweetDiscount380445'}, {'id': 5887, 'uid': '25e6e1a1-5de4-40d3-9815-7c25e6113a72', 'color': 'blue', 'department': 'Outdoors & Movies', 'material': 'Paper', 'product_name': 'Enormous Marble Bottle', 'price': 6.72, 'price_string': '9.80', 'promo_code': 'GoodDeal306665'}, {'id': 1175, 'uid': '8d39c692-1ad7-493e-a35c-d0a00cbde0a5', 'color': 'ruby', 'department': 'Health & Automotive', 'material': 'Steel', 'product_name': 'Synergistic Granite Table', 'price': 8.1, 'price_string': '0.09', 'promo_code': 'AmazingDiscount799165'}, {'id': 9414, 'uid': 'fbf15145-9e6c-4efa-b0cb-99a945a1d053', 'color': 'indigo', 'department': 'Beauty & Music', 'material': 'Steel', 'product_name': 'Heavy Duty Steel Table', 'price': 51.42, 'price_string': '3.47', 'promo_code': 'AmazingDeal395331'}, {'id': 5580, 'uid': '9ee92186-2041-4588-87ab-9db5ac6520d4', 'color': 'magenta', 'department': 'Computers', 'material': 'Concrete', 'product_name': 'Aerodynamic Silk Clock', 'price': 52.57, 'price_string': '8.20', 'promo_code': 'IncrediblePromo520552'}, {'id': 1657, 'uid': '0e3b0d15-994b-4b67-8d9d-3a8b89b936e7', 'color': 'magenta', 'department': 'Movies & Jewelry', 'material': 'Cotton', 'product_name': 'Aerodynamic Copper Knife', 'price': 12.65, 'price_string': '2.57', 'promo_code': 'CoolDeal196953'}, {'id': 6357, 'uid': 'a2a5a19e-1bb1-4c4d-99cc-8b13d21591b3', 'color': 'plum', 'department': 'Sports & Home', 'material': 'Leather', 'product_name': 'Enormous Aluminum Gloves', 'price': 56.73, 'price_string': '7.93', 'promo_code': 'SweetDiscount411750'}, {'id': 3358, 'uid': '572a9e0d-ea66-4897-a99e-b1aa1e666083', 'color': 'coffee', 'department': 'Computers & Music', 'material': 'Copper', 'product_name': 'Lightweight Aluminum Clock', 'price': 84.34, 'price_string': '5.29', 'promo_code': 'PremiumDeal589815'}, {'id': 3005, 'uid': 'f922c131-cea2-4af9-9543-24b7bc953650', 'color': 'crimson', 'department': 'Music', 'material': 'Copper', 'product_name': 'Rustic Wooden Coat', 'price': 78.97, 'price_string': '3.59', 'promo_code': 'AwesomeSavings178386'}, {'id': 8524, 'uid': 'ba4b315f-b55a-41e8-b9ff-6e3e9aad23df', 'color': 'scarlet', 'department': 'Clothing & Beauty', 'material': 'Leather', 'product_name': 'Synergistic Cotton Wallet', 'price': 59.65, 'price_string': '3.53', 'promo_code': 'SweetDiscount580021'}, {'id': 5017, 'uid': '51779c19-b6f8-4a7d-aed7-d2505b4f1122', 'color': 'lemon', 'department': 'Music & Tools', 'material': 'Granite', 'product_name': 'Ergonomic Marble Bottle', 'price': 38.27, 'price_string': '0.30', 'promo_code': 'GreatDeal762381'}, {'id': 5516, 'uid': 'b56dee24-8390-4cfd-8d9c-550a155cc359', 'color': 'puce', 'department': 'Books & Automotive', 'material': 'Granite', 'product_name': 'Enormous Aluminum Coat', 'price': 22.25, 'price_string': '7.38', 'promo_code': 'GoodSavings787069'}, {'id': 2903, 'uid': '75adf8ce-9b46-4144-8c10-032ab87747c2', 'color': 'maroon', 'department': 'Health', 'material': 'Granite', 'product_name': 'Rustic Copper Clock', 'price': 72.53, 'price_string': '5.99', 'promo_code': 'GreatSavings624805'}, {'id': 336, 'uid': '798312a6-8d92-4faa-9f91-41085a625d8b', 'color': 'scarlet', 'department': 'Music', 'material': 'Aluminum', 'product_name': 'Awesome Leather Coat', 'price': 74.98, 'price_string': '7.42', 'promo_code': 'IncredibleCode596464'}, {'id': 5233, 'uid': '8ff37a1f-c048-4603-899d-de065430a3da', 'color': 'cyan', 'department': 'Books', 'material': 'Bronze', 'product_name': 'Fantastic Wooden Clock', 'price': 10.94, 'price_string': '5.43', 'promo_code': 'AmazingDeal560892'}, {'id': 8736, 'uid': '398d085d-db44-47e9-8efc-7bc859649471', 'color': 'rose', 'department': 'Shoes', 'material': 'Copper', 'product_name': 'Rustic Silk Clock', 'price': 80.71, 'price_string': '3.61', 'promo_code': 'GoodPromo925357'}, {'id': 9090, 'uid': '8a26ac8a-06d5-49d6-bad0-e1c4019ad7b0', 'color': 'cyan', 'department': 'Tools & Garden', 'material': 'Aluminum', 'product_name': 'Fantastic Linen Pants', 'price': 83.12, 'price_string': '2.63', 'promo_code': 'CoolPromo799754'}, {'id': 3316, 'uid': '9afa4af5-f02d-4cc9-80d9-d73b72f4832f', 'color': 'orchid', 'department': 'Computers', 'material': 'Concrete', 'product_name': 'Small Plastic Bottle', 'price': 9.25, 'price_string': '2.82', 'promo_code': 'SpecialPromotion702767'}, {'id': 3860, 'uid': 'f430c6d9-3246-4c54-bed3-c0b88a914f96', 'color': 'champagne', 'department': 'Beauty & Baby', 'material': 'Leather', 'product_name': 'Aerodynamic Wool Bottle', 'price': 91.76, 'price_string': '1.09', 'promo_code': 'CoolDiscount679822'}, {'id': 8213, 'uid': '7a91e76e-34a2-480d-87a4-12f63e101258', 'color': 'champagne', 'department': 'Baby', 'material': 'Aluminum', 'product_name': 'Lightweight Marble Shoes', 'price': 79.33, 'price_string': '4.51', 'promo_code': 'KillerPromotion617936'}, {'id': 5277, 'uid': '727f2614-a238-49e2-8fad-89f92513db6e', 'color': 'azure', 'department': 'Garden', 'material': 'Granite', 'product_name': 'Lightweight Paper Car', 'price': 89.18, 'price_string': '5.58', 'promo_code': 'KillerPromo780917'}, {'id': 9683, 'uid': '34f59dae-606c-4c23-863d-b941b716246b', 'color': 'sky', 'department': 'Books & Sports', 'material': 'Wooden', 'product_name': 'Small Aluminum Bottle', 'price': 68.7, 'price_string': '9.04', 'promo_code': 'PremiumPromotion333079'}, {'id': 2725, 'uid': '4c20ebfe-300f-4963-ba99-f39591e2108c', 'color': 'lavender', 'department': 'Grocery', 'material': 'Cotton', 'product_name': 'Rustic Plastic Pants', 'price': 71.7, 'price_string': '4.70', 'promo_code': 'SpecialDiscount831374'}, {'id': 6272, 'uid': 'fcef58be-c4af-4284-9811-29843c351918', 'color': 'indigo', 'department': 'Automotive', 'material': 'Wooden', 'product_name': 'Practical Bronze Chair', 'price': 51.0, 'price_string': '9.81', 'promo_code': 'AwesomePromotion197172'}, {'id': 5013, 'uid': '73c6ccad-17ae-413b-83fe-7e351e1b7e6a', 'color': 'rose', 'department': 'Computers', 'material': 'Iron', 'product_name': 'Lightweight Copper Clock', 'price': 60.84, 'price_string': '2.54', 'promo_code': 'GreatCode358082'}, {'id': 2418, 'uid': 'fc49eda9-0c2c-4acd-912a-3109fccc8bd3', 'color': 'gray', 'department': 'Movies & Kids', 'material': 'Wooden', 'product_name': 'Rustic Cotton Clock', 'price': 75.14, 'price_string': '1.16', 'promo_code': 'GreatCode211402'}, {'id': 4841, 'uid': '24121d16-1489-48d8-9d8d-2d7616c3b346', 'color': 'gray', 'department': 'Music', 'material': 'Wooden', 'product_name': 'Incredible Granite Table', 'price': 72.65, 'price_string': '2.22', 'promo_code': 'CoolDeal723966'}, {'id': 6922, 'uid': '75c1237a-0254-4e08-96ec-2c53bc1baa2e', 'color': 'apricot', 'department': 'Shoes & Jewelry', 'material': 'Leather', 'product_name': 'Heavy Duty Bronze Table', 'price': 0.07, 'price_string': '4.11', 'promo_code': 'GreatCode331204'}, {'id': 1736, 'uid': '84df5eb2-4681-477c-baaf-177f3c514b57', 'color': 'white', 'department': 'Baby & Automotive', 'material': 'Paper', 'product_name': 'Intelligent Leather Wallet', 'price': 87.82, 'price_string': '9.93', 'promo_code': 'CoolSavings434626'}, {'id': 7616, 'uid': '6c2c91f8-a970-4d5e-b822-dc33ec3b07a5', 'color': 'fuchsia', 'department': 'Grocery', 'material': 'Leather', 'product_name': 'Gorgeous Wooden Lamp', 'price': 63.24, 'price_string': '8.70', 'promo_code': 'GoodPrice249390'}, {'id': 6975, 'uid': '0c39ab8f-bc78-4113-bf96-8bb537427232', 'color': 'white', 'department': 'Baby', 'material': 'Aluminum', 'product_name': 'Sleek Cotton Lamp', 'price': 97.28, 'price_string': '3.75', 'promo_code': 'IncrediblePrice706025'}, {'id': 9085, 'uid': '0f8712d3-f546-47c4-8794-91290c9c6e44', 'color': 'white', 'department': 'Movies', 'material': 'Wool', 'product_name': 'Mediocre Plastic Gloves', 'price': 42.68, 'price_string': '6.88', 'promo_code': 'StellarSale508864'}, {'id': 674, 'uid': 'cc99c3cc-d10d-4913-85fd-1e22fbd2dd35', 'color': 'beige', 'department': 'Health', 'material': 'Bronze', 'product_name': 'Durable Iron Shoes', 'price': 98.55, 'price_string': '2.85', 'promo_code': 'PremiumDiscount364155'}, {'id': 6969, 'uid': '12d9bc01-eba6-4b9a-b4b1-5e20f82634a3', 'color': 'emerald', 'department': 'Jewelry', 'material': 'Iron', 'product_name': 'Gorgeous Concrete Keyboard', 'price': 18.8, 'price_string': '7.33', 'promo_code': 'SweetCode481605'}, {'id': 5249, 'uid': 'c096d103-2eed-4629-843b-a14fa2b0a830', 'color': 'crimson', 'department': 'Computers', 'material': 'Bronze', 'product_name': 'Ergonomic Granite Clock', 'price': 37.09, 'price_string': '1.71', 'promo_code': 'KillerSavings452893'}, {'id': 2043, 'uid': '2c2a0ee5-7233-4cfb-99ad-a8b76af92a94', 'color': 'sky', 'department': 'Clothing & Games', 'material': 'Copper', 'product_name': 'Awesome Concrete Car', 'price': 57.09, 'price_string': '1.89', 'promo_code': 'KillerDeal922179'}, {'id': 2489, 'uid': '5096defd-5ef8-400b-b1c8-76e844734684', 'color': 'coffee', 'department': 'Baby', 'material': 'Steel', 'product_name': 'Sleek Paper Watch', 'price': 84.27, 'price_string': '7.58', 'promo_code': 'CoolSavings235699'}, {'id': 5672, 'uid': '6ad55bc7-5426-4274-92cd-4f93d90986b1', 'color': 'rose', 'department': 'Health & Beauty', 'material': 'Paper', 'product_name': 'Sleek Paper Gloves', 'price': 24.05, 'price_string': '9.90', 'promo_code': 'GoodSavings101543'}, {'id': 1906, 'uid': '9bee1629-ee33-4446-9e0d-62389e378ff5', 'color': 'maroon', 'department': 'Books & Shoes', 'material': 'Granite', 'product_name': 'Gorgeous Paper Car', 'price': 6.87, 'price_string': '2.28', 'promo_code': 'StellarSavings135011'}, {'id': 4851, 'uid': 'b6526494-1459-4092-b6b7-b65154130a74', 'color': 'rose', 'department': 'Outdoors', 'material': 'Iron', 'product_name': 'Intelligent Plastic Chair', 'price': 75.15, 'price_string': '0.31', 'promo_code': 'KillerCode480055'}, {'id': 9290, 'uid': '65b699c5-30d4-4e9f-bac8-b078bb42dbbf', 'color': 'peach', 'department': 'Industrial & Sports', 'material': 'Aluminum', 'product_name': 'Synergistic Granite Watch', 'price': 16.2, 'price_string': '1.20', 'promo_code': 'AwesomeCode152842'}, {'id': 4609, 'uid': '69ad4fb1-1606-45ca-88ff-d309528018ef', 'color': 'amethyst', 'department': 'Industrial & Computers', 'material': 'Linen', 'product_name': 'Practical Silk Shirt', 'price': 5.52, 'price_string': '7.44', 'promo_code': 'AmazingDiscount795216'}, {'id': 2101, 'uid': 'e6ac8ea2-5cda-4a9b-b7f8-d10b7d84e0f4', 'color': 'tan', 'department': 'Shoes & Baby', 'material': 'Wooden', 'product_name': 'Incredible Concrete Bag', 'price': 79.21, 'price_string': '1.01', 'promo_code': 'IncrediblePromotion613340'}, {'id': 6233, 'uid': '7b12b4c0-55ca-4b50-b6ff-abd34b2e20c6', 'color': 'azure', 'department': 'Books', 'material': 'Iron', 'product_name': 'Incredible Steel Clock', 'price': 84.53, 'price_string': '5.35', 'promo_code': 'AwesomeDiscount669416'}, {'id': 3739, 'uid': '4ff77811-2782-4fcc-b327-312f1cbed61a', 'color': 'gold', 'department': 'Sports & Clothing', 'material': 'Wool', 'product_name': 'Heavy Duty Cotton Shoes', 'price': 37.76, 'price_string': '9.79', 'promo_code': 'SpecialDiscount707307'}, {'id': 421, 'uid': '10b5f21a-3714-4a76-a8ca-75eec64ab0f0', 'color': 'periwinkle', 'department': 'Tools', 'material': 'Steel', 'product_name': 'Aerodynamic Rubber Coat', 'price': 12.33, 'price_string': '3.25', 'promo_code': 'PremiumPromotion486576'}, {'id': 5922, 'uid': 'cfab59f3-69be-4f91-924f-fca1d31781fd', 'color': 'azure', 'department': 'Home & Health', 'material': 'Iron', 'product_name': 'Enormous Cotton Bag', 'price': 35.22, 'price_string': '9.72', 'promo_code': 'CoolCode804875'}, {'id': 2372, 'uid': 'ddaa79c6-f930-47df-85b5-624cf4e7f331', 'color': 'coffee', 'department': 'Games & Industrial', 'material': 'Granite', 'product_name': 'Awesome Cotton Watch', 'price': 25.91, 'price_string': '2.64', 'promo_code': 'GoodPromotion378993'}, {'id': 8007, 'uid': '2ebdfe61-f831-42d3-b4fb-92f425b6f3dc', 'color': 'ivory', 'department': 'Movies', 'material': 'Wool', 'product_name': 'Durable Marble Shoes', 'price': 84.51, 'price_string': '7.27', 'promo_code': 'SweetDeal363318'}, {'id': 3867, 'uid': '3d3a2067-dfac-420b-ae43-b8906007afb2', 'color': 'cerise', 'department': 'Clothing & Outdoors', 'material': 'Marble', 'product_name': 'Awesome Granite Watch', 'price': 38.35, 'price_string': '5.81', 'promo_code': 'SweetPromo360980'}, {'id': 644, 'uid': '0470fc73-5aa4-4a1c-a62d-7ff9b920492a', 'color': 'viridian', 'department': 'Garden', 'material': 'Wooden', 'product_name': 'Durable Steel Computer', 'price': 13.2, 'price_string': '3.32', 'promo_code': 'AwesomeSale796745'}, {'id': 3011, 'uid': 'e7f128e2-80db-425e-b5b8-91f0a62e963c', 'color': 'orchid', 'department': 'Grocery & Sports', 'material': 'Marble', 'product_name': 'Practical Leather Shoes', 'price': 4.09, 'price_string': '2.88', 'promo_code': 'PremiumPromotion789688'}, {'id': 7476, 'uid': '6932f51f-966a-4096-8294-42804175c274', 'color': 'scarlet', 'department': 'Jewelry', 'material': 'Linen', 'product_name': 'Heavy Duty Wool Computer', 'price': 67.6, 'price_string': '0.86', 'promo_code': 'GoodDeal837942'}, {'id': 394, 'uid': '0cdd3ed9-706f-4022-9c49-908f875401e2', 'color': 'burgundy', 'department': 'Baby & Toys', 'material': 'Silk', 'product_name': 'Awesome Rubber Lamp', 'price': 88.85, 'price_string': '3.69', 'promo_code': 'SweetDeal156400'}, {'id': 2859, 'uid': '9cc952cf-d824-4b8f-83e3-bb958fe8845c', 'color': 'amethyst', 'department': 'Home', 'material': 'Linen', 'product_name': 'Gorgeous Rubber Hat', 'price': 89.98, 'price_string': '3.74', 'promo_code': 'IncredibleSale725526'}, {'id': 2741, 'uid': 'c874f8ff-e56b-41f9-a824-96319e63c4be', 'color': 'turquoise', 'department': 'Industrial & Clothing', 'material': 'Rubber', 'product_name': 'Awesome Granite Gloves', 'price': 97.69, 'price_string': '0.71', 'promo_code': 'AwesomePromotion306048'}, {'id': 456, 'uid': 'bf626885-582f-4a7c-94f2-6514416bcf24', 'color': 'azure', 'department': 'Kids & Sports', 'material': 'Copper', 'product_name': 'Mediocre Paper Hat', 'price': 56.09, 'price_string': '7.97', 'promo_code': 'AwesomeDiscount677978'}, {'id': 8861, 'uid': '67d70748-06e3-4a11-aa96-1b09c6981cc5', 'color': 'apricot', 'department': 'Music & Tools', 'material': 'Leather', 'product_name': 'Gorgeous Cotton Gloves', 'price': 31.72, 'price_string': '2.55', 'promo_code': 'IncredibleCode659423'}, {'id': 4169, 'uid': '0874cee3-673e-439c-8340-1a99c1c60317', 'color': 'scarlet', 'department': 'Industrial & Music', 'material': 'Wooden', 'product_name': 'Heavy Duty Marble Chair', 'price': 48.41, 'price_string': '0.05', 'promo_code': 'PremiumPromotion338126'}, {'id': 3422, 'uid': '661cf6fb-6ad6-47c1-aa60-94511b837b20', 'color': 'white', 'department': 'Baby', 'material': 'Cotton', 'product_name': 'Awesome Linen Bag', 'price': 21.78, 'price_string': '9.48', 'promo_code': 'StellarDiscount930602'}]\n"
          ]
        }
      ]
    },
    {
      "cell_type": "code",
      "execution_count": 5,
      "metadata": {
        "colab": {
          "base_uri": "https://localhost:8080/"
        },
        "id": "54bbSYH6ULJq",
        "outputId": "475b3dd1-bbf8-4ae3-83ff-b948ef6ecd7f"
      },
      "outputs": [
        {
          "output_type": "stream",
          "name": "stdout",
          "text": [
            "{'colores': ['orchid',\n",
            "             'raspberry',\n",
            "             'aquamarine',\n",
            "             'scarlet',\n",
            "             'viridian',\n",
            "             'peach',\n",
            "             'cyan',\n",
            "             'ruby',\n",
            "             'ultramarine',\n",
            "             'carmine',\n",
            "             'tan',\n",
            "             'pink',\n",
            "             'pear',\n",
            "             'coral',\n",
            "             'silver',\n",
            "             'brown',\n",
            "             'amaranth',\n",
            "             'blush',\n",
            "             'grey',\n",
            "             'sapphire',\n",
            "             'teal',\n",
            "             'amethyst',\n",
            "             'yellow',\n",
            "             'chocolate',\n",
            "             'harlequin',\n",
            "             'mauve',\n",
            "             'purple',\n",
            "             'coffee',\n",
            "             'periwinkle',\n",
            "             'black',\n",
            "             'erin',\n",
            "             'amber',\n",
            "             'blue',\n",
            "             'indigo',\n",
            "             'magenta',\n",
            "             'plum',\n",
            "             'crimson',\n",
            "             'lemon',\n",
            "             'puce',\n",
            "             'maroon',\n",
            "             'rose',\n",
            "             'champagne',\n",
            "             'azure',\n",
            "             'sky',\n",
            "             'lavender',\n",
            "             'gray',\n",
            "             'apricot',\n",
            "             'white',\n",
            "             'fuchsia',\n",
            "             'beige',\n",
            "             'emerald',\n",
            "             'gold',\n",
            "             'ivory',\n",
            "             'cerise',\n",
            "             'burgundy',\n",
            "             'turquoise'],\n",
            " 'department': ['Home',\n",
            "                'Tools',\n",
            "                'Computers & Electronics',\n",
            "                'Kids',\n",
            "                'Jewelry & Baby',\n",
            "                'Beauty & Tools',\n",
            "                'Home & Kids',\n",
            "                'Health & Electronics',\n",
            "                'Baby & Shoes',\n",
            "                'Electronics',\n",
            "                'Books & Tools',\n",
            "                'Sports',\n",
            "                'Tools & Computers',\n",
            "                'Beauty',\n",
            "                'Clothing',\n",
            "                'Jewelry',\n",
            "                'Garden',\n",
            "                'Computers',\n",
            "                'Sports & Books',\n",
            "                'Jewelry & Computers',\n",
            "                'Electronics & Automotive',\n",
            "                'Kids & Games',\n",
            "                'Music & Health',\n",
            "                'Automotive',\n",
            "                'Sports & Computers',\n",
            "                'Grocery & Garden',\n",
            "                'Toys & Clothing',\n",
            "                'Games & Industrial',\n",
            "                'Sports & Automotive',\n",
            "                'Tools & Electronics',\n",
            "                'Electronics & Clothing',\n",
            "                'Tools & Outdoors',\n",
            "                'Electronics & Toys',\n",
            "                'Outdoors & Movies',\n",
            "                'Health & Automotive',\n",
            "                'Beauty & Music',\n",
            "                'Movies & Jewelry',\n",
            "                'Sports & Home',\n",
            "                'Computers & Music',\n",
            "                'Music',\n",
            "                'Clothing & Beauty',\n",
            "                'Music & Tools',\n",
            "                'Books & Automotive',\n",
            "                'Health',\n",
            "                'Books',\n",
            "                'Shoes',\n",
            "                'Tools & Garden',\n",
            "                'Beauty & Baby',\n",
            "                'Baby',\n",
            "                'Books & Sports',\n",
            "                'Grocery',\n",
            "                'Movies & Kids',\n",
            "                'Shoes & Jewelry',\n",
            "                'Baby & Automotive',\n",
            "                'Movies',\n",
            "                'Clothing & Games',\n",
            "                'Health & Beauty',\n",
            "                'Books & Shoes',\n",
            "                'Outdoors',\n",
            "                'Industrial & Sports',\n",
            "                'Industrial & Computers',\n",
            "                'Shoes & Baby',\n",
            "                'Sports & Clothing',\n",
            "                'Home & Health',\n",
            "                'Clothing & Outdoors',\n",
            "                'Grocery & Sports',\n",
            "                'Baby & Toys',\n",
            "                'Industrial & Clothing',\n",
            "                'Kids & Sports',\n",
            "                'Industrial & Music']}\n"
          ]
        }
      ],
      "source": [
        "\n",
        "## we initializa a dictionary \n",
        "dic = dict()\n",
        "## we asign the values to an empty array for parsing the values\n",
        "dic['colores'] = []\n",
        "## we create a second space in the dic for the department values \n",
        "dic['department'] = []\n",
        "\n",
        "## we have basically 2 keys , colors and departments\n",
        "\n",
        "for i in data:\n",
        "  if i['color'] not in dic['colores']:\n",
        "    dic['colores'].append(i['color'])\n",
        "  if i['department'] not in dic['department']:\n",
        "    dic['department'].append(i['department'])\n",
        "pprint(dic)"
      ]
    }
  ]
}